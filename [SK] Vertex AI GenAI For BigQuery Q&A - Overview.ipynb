{
 "cells": [
  {
   "cell_type": "markdown",
   "id": "3280a90a-c51c-4de1-9411-5f6fa60c8a4f",
   "metadata": {},
   "source": [
    "![ga4](https://www.google-analytics.com/collect?v=2&tid=G-6VDTYWLKX6&cid=1&en=page_view&sid=1&dl=statmike%2Fvertex-ai-mlops%2FApplied+GenAI&dt=Vertex+AI+GenAI+For+BigQuery+Q%26A+-+Overview.ipynb)\n",
    "\n",
    "# Answering Questions Using BigQuery Tables As Context\n",
    "\n",
    "Ask Question of a table in BigQuery.  How?  First translated the quesiton to SQL and extract results from the BigQuery Table.  Then provide the results as context with the orignal question to an LLM for answering.\n",
    "\n",
    "The workflow:\n",
    "- Setup Enviornment\n",
    "- Setup access to LLMs: Test and Code\n",
    "- Retrieve Table Schemas using BigQuery Information Schema\n",
    "- Translate Question to Code (SQL) with context of table schemas\n",
    "- Ask an LLM to answer the question with context of results from running the generated SQL\n",
    "- Ask more question!"
   ]
  },
  {
   "cell_type": "markdown",
   "id": "547187ca-ed00-4174-9262-ef8deac19bc9",
   "metadata": {
    "id": "R0Q3cgMcshvL"
   },
   "source": [
    "---\n",
    "## Overview\n",
    "\n"
   ]
  },
  {
   "cell_type": "markdown",
   "id": "43c7bb98-3163-4fd2-8ad0-7c23a21f9aac",
   "metadata": {},
   "source": [
    "\n",
    "## Overview\n",
    "\n",
    "<p><center>\n",
    "    <img alt=\"Overview Chart\" src=\"../Text2SQL.png\" width=\"55%\">\n",
    "    <img alt=\"Overview Chart\" src=\"../BigQueryQnA.png\" width=\"55%\">\n",
    "</center><p>\n"
   ]
  },
  {
   "cell_type": "markdown",
   "id": "cce2bded-23ce-4761-8df1-562240f17be6",
   "metadata": {
    "id": "od_UkDpvRmgD",
    "tags": []
   },
   "source": [
    "---\n",
    "## Colab Setup\n",
    "\n",
    "To run this notebook in Colab click [![Open In Colab](https://colab.research.google.com/assets/colab-badge.svg)](https://colab.research.google.com/github/statmike/vertex-ai-mlops/blob/main/Applied%20GenAI/Vertex%20AI%20GenAI%20For%20BigQuery%20Q&A%20-%20Overview.ipynb) and run the cells in this section.  Otherwise, skip this section.\n",
    "\n",
    "vertex-ai-mlops/Applied GenAI/Vertex AI GenAI For BigQuery Q&A - Overview.ipynb\n",
    "\n",
    "This cell will authenticate to GCP (follow prompts in the popup)."
   ]
  },
  {
   "cell_type": "code",
   "execution_count": 1,
   "id": "2a0cee4a-d31e-4511-a74d-4c890d9bcca1",
   "metadata": {
    "executionInfo": {
     "elapsed": 195,
     "status": "ok",
     "timestamp": 1683726184843,
     "user": {
      "displayName": "Mike Henderson",
      "userId": "07691629187611687318"
     },
     "user_tz": 240
    },
    "id": "8UO9FnqyKBlF"
   },
   "outputs": [],
   "source": [
    "PROJECT_ID = 'analytics-ml-ai' # replace with project ID"
   ]
  },
  {
   "cell_type": "markdown",
   "id": "4638aeb5-d4ae-4234-8a4a-f162eeb130e7",
   "metadata": {},
   "source": [
    "---\n",
    "## Installs and API Enablement\n",
    "\n",
    "The clients packages may need installing in this environment.  Also, the APIs for Cloud Speech-To-Text and Cloud Text-To-Speech need to be enabled (if not already enabled)."
   ]
  },
  {
   "cell_type": "markdown",
   "id": "b553ea40-3ab9-47aa-a992-bd0ad83e4211",
   "metadata": {},
   "source": [
    "### Installs (If Needed)"
   ]
  },
  {
   "cell_type": "code",
   "execution_count": 3,
   "id": "38d64660-8af0-4734-8cb4-2403364f5d42",
   "metadata": {},
   "outputs": [],
   "source": [
    "install = False\n",
    "try: import google.cloud.aiplatform\n",
    "except ImportError:\n",
    "    print('You need to pip install google-cloud-aiplatform (VERTEX AI), ... commencing')\n",
    "    !pip install google-cloud-aiplatform -U -q\n",
    "    install = True"
   ]
  },
  {
   "cell_type": "code",
   "execution_count": 1,
   "id": "3945828c-3fcb-415b-9dca-1ccc17c24ac3",
   "metadata": {},
   "outputs": [],
   "source": [
    "!pip install --user gradio --quiet"
   ]
  },
  {
   "cell_type": "markdown",
   "id": "dc31f72b-cf98-4c91-8ef6-58f181fc11a1",
   "metadata": {},
   "source": [
    "### Restart Kernel (If Installs Occured)\n",
    "\n",
    "After a kernel restart the code submission can start with the next cell after this one."
   ]
  },
  {
   "cell_type": "code",
   "execution_count": 4,
   "id": "8fc6de4a-610a-4498-885d-111a43ac5a6c",
   "metadata": {},
   "outputs": [],
   "source": [
    "if install:\n",
    "    import IPython\n",
    "    app = IPython.Application.instance()\n",
    "    app.kernel.do_shutdown(True)"
   ]
  },
  {
   "cell_type": "markdown",
   "id": "0ccd823b-b93c-4571-b80e-8ee70de32f0a",
   "metadata": {
    "id": "appt8-yVRtJ1"
   },
   "source": [
    "---\n",
    "## Setup"
   ]
  },
  {
   "cell_type": "markdown",
   "id": "702c4747-d1ed-4901-b65f-6875a4019f89",
   "metadata": {
    "id": "63mx2EozRxFP"
   },
   "source": [
    "Inputs"
   ]
  },
  {
   "cell_type": "code",
   "execution_count": 4,
   "id": "65fb598d-a230-44e1-b4fb-5bc53413a145",
   "metadata": {
    "colab": {
     "base_uri": "https://localhost:8080/",
     "height": 35
    },
    "executionInfo": {
     "elapsed": 2124,
     "status": "ok",
     "timestamp": 1683726390544,
     "user": {
      "displayName": "Mike Henderson",
      "userId": "07691629187611687318"
     },
     "user_tz": 240
    },
    "id": "xzcoXjM5Rky5",
    "outputId": "b3bdcbc1-70d5-472e-aea2-42c74a42efde"
   },
   "outputs": [
    {
     "data": {
      "text/plain": [
       "'analytics-ml-ai'"
      ]
     },
     "execution_count": 4,
     "metadata": {},
     "output_type": "execute_result"
    }
   ],
   "source": [
    "project = !gcloud config get-value project\n",
    "PROJECT_ID = project[0]\n",
    "PROJECT_ID"
   ]
  },
  {
   "cell_type": "code",
   "execution_count": 5,
   "id": "53e3a060-251a-463a-aa76-77f5ddf2aebe",
   "metadata": {
    "executionInfo": {
     "elapsed": 2,
     "status": "ok",
     "timestamp": 1683726390712,
     "user": {
      "displayName": "Mike Henderson",
      "userId": "07691629187611687318"
     },
     "user_tz": 240
    },
    "id": "IxWrFtqYMfku"
   },
   "outputs": [],
   "source": [
    "REGION = 'us-central1'\n",
    "EXPERIMENT = 'bq-citibikes'\n",
    "SERIES = 'applied-genai'"
   ]
  },
  {
   "cell_type": "markdown",
   "id": "23ff5fa0-3753-41b0-97ec-e23127faebd9",
   "metadata": {
    "id": "LuajVwCiO6Yg"
   },
   "source": [
    "Packages"
   ]
  },
  {
   "cell_type": "code",
   "execution_count": 6,
   "id": "32af0aab-3889-43c1-b34d-29bb13c0ef8f",
   "metadata": {
    "executionInfo": {
     "elapsed": 17761,
     "status": "ok",
     "timestamp": 1683726409304,
     "user": {
      "displayName": "Mike Henderson",
      "userId": "07691629187611687318"
     },
     "user_tz": 240
    },
    "id": "LVC7zzSLRk2C"
   },
   "outputs": [],
   "source": [
    "import vertexai.language_models\n",
    "from google.cloud import aiplatform\n",
    "from google.cloud import bigquery"
   ]
  },
  {
   "cell_type": "markdown",
   "id": "e79f461c-7f9c-4e4b-83aa-aff2e5593c9c",
   "metadata": {
    "id": "EyAVFG9TO9H-"
   },
   "source": [
    "Clients"
   ]
  },
  {
   "cell_type": "code",
   "execution_count": 7,
   "id": "659a377b-ed33-408d-8af7-a4b398758612",
   "metadata": {
    "executionInfo": {
     "elapsed": 19,
     "status": "ok",
     "timestamp": 1683726409306,
     "user": {
      "displayName": "Mike Henderson",
      "userId": "07691629187611687318"
     },
     "user_tz": 240
    },
    "id": "L0RPE13LOZce"
   },
   "outputs": [],
   "source": [
    "# vertex ai clients\n",
    "vertexai.init(project = PROJECT_ID, location = REGION)\n",
    "aiplatform.init(project = PROJECT_ID, location = REGION)\n",
    "\n",
    "# bigquery client\n",
    "bq = bigquery.Client(project = PROJECT_ID)"
   ]
  },
  {
   "cell_type": "markdown",
   "id": "03013d83-8d11-43ad-82e7-6651264c63d5",
   "metadata": {},
   "source": [
    "---\n",
    "## Goal\n",
    "\n",
    "New York City has [Citibike](https://citibikenyc.com/) stations where you can rent a bicycle by the ride, the day, or subscribe monthly/annually.  There is a sample of the usage of citibike stations in BigQuery public datasets.  We would like to answer possible questions in natural langauge using this data as the source.\n",
    "\n",
    "A possible quesiton is: Which Citibike station has the most rental during July 2015?\n",
    "\n",
    "The appoach used here is ask an LLM to answer the question.  The approach has multiple steps:\n",
    "1. Ask a code generation LLM to write a SQL query that retrives the relevant information to the question from the tables - the context\n",
    "2. Run the query generated in 1\n",
    "3. Ask a text generation LLM to answer the question and give it a context to help accurately answer the question - the result of 2"
   ]
  },
  {
   "cell_type": "code",
   "execution_count": 8,
   "id": "b4472aab-2adc-4dcb-8207-31121a24a914",
   "metadata": {},
   "outputs": [],
   "source": [
    "question = \"Which station had most rentals (longest total duration) during July 2015?\""
   ]
  },
  {
   "cell_type": "markdown",
   "id": "149f48d8-5ccf-46e7-89d4-8b6f38bc1513",
   "metadata": {
    "id": "PF_zXB00TMao"
   },
   "source": [
    "---\n",
    "## Vertex LLM Setup\n",
    "\n",
    "- CodeGenerationgModel [Guide](https://cloud.google.com/vertex-ai/docs/generative-ai/code/code-generation-prompts)\n",
    "    - CodeGenerationModel [API](https://cloud.google.com/python/docs/reference/aiplatform/latest/vertexai.language_models.CodeGenerationModel)\n",
    "- TextGenerationModel [Guide](https://cloud.google.com/vertex-ai/docs/generative-ai/text/test-text-prompts)\n",
    "    - TextGenerationModel [API](https://cloud.google.com/python/docs/reference/aiplatform/latest/vertexai.preview.language_models.TextGenerationModel)"
   ]
  },
  {
   "cell_type": "code",
   "execution_count": 9,
   "id": "55d596bd-980c-4f44-ba59-225318094d9a",
   "metadata": {
    "executionInfo": {
     "elapsed": 17,
     "status": "ok",
     "timestamp": 1683726409314,
     "user": {
      "displayName": "Mike Henderson",
      "userId": "07691629187611687318"
     },
     "user_tz": 240
    },
    "id": "dn2FH-pETUPf"
   },
   "outputs": [],
   "source": [
    "# create links to model: embedding api and text generation\n",
    "textgen_model = vertexai.language_models.TextGenerationModel.from_pretrained('text-bison')\n",
    "codegen_model = vertexai.language_models.CodeGenerationModel.from_pretrained('code-bison')"
   ]
  },
  {
   "cell_type": "markdown",
   "id": "66f4d2d3-4aab-4fc3-88a9-d602c6f1b5fd",
   "metadata": {
    "id": "qEITqYF1QNkP"
   },
   "source": [
    "Test test generation (llm) model:"
   ]
  },
  {
   "cell_type": "code",
   "execution_count": 10,
   "id": "ed9baa8c-c678-42d9-ab14-d2a8015a369c",
   "metadata": {
    "colab": {
     "base_uri": "https://localhost:8080/"
    },
    "executionInfo": {
     "elapsed": 1758,
     "status": "ok",
     "timestamp": 1683726411751,
     "user": {
      "displayName": "Mike Henderson",
      "userId": "07691629187611687318"
     },
     "user_tz": 240
    },
    "id": "ippLc2_eYeQH",
    "outputId": "c09300ed-9e44-40a7-f3d0-f4a95515021c"
   },
   "outputs": [
    {
     "data": {
      "text/plain": [
       " ```sql\n",
       "SELECT start_station_id,\n",
       "       SUM(duration_minutes) AS total_duration\n",
       "FROM bike_sharing_trips\n",
       "WHERE EXTRACT(MONTH FROM start_time) = 7\n",
       "  AND EXTRACT(YEAR FROM start_time) = 2015\n",
       "GROUP BY start_station_id\n",
       "ORDER BY total_duration DESC\n",
       "LIMIT 1;\n",
       "```"
      ]
     },
     "execution_count": 10,
     "metadata": {},
     "output_type": "execute_result"
    }
   ],
   "source": [
    "textgen_model.predict(f\"Write a Google SQL query that answers the following question.\\nquestion: {question}\")"
   ]
  },
  {
   "cell_type": "code",
   "execution_count": 11,
   "id": "8478341a-dff0-4525-a1e5-10c9d9368fa2",
   "metadata": {},
   "outputs": [
    {
     "data": {
      "text/plain": [
       "```sql\n",
       "SELECT start_station_id, SUM(duration_minutes) AS total_duration\n",
       "FROM bike_sharing_trips\n",
       "WHERE DATE BETWEEN '2015-07-01' AND '2015-07-31'\n",
       "GROUP BY start_station_id\n",
       "ORDER BY total_duration DESC\n",
       "LIMIT 1;\n",
       "```"
      ]
     },
     "execution_count": 11,
     "metadata": {},
     "output_type": "execute_result"
    }
   ],
   "source": [
    "codegen_model.predict(f\"Write a Google SQL query that answers the following question.\\nquestion: {question}\")"
   ]
  },
  {
   "cell_type": "markdown",
   "id": "11062730-255b-437c-be82-f9ec22aaa781",
   "metadata": {},
   "source": [
    "These both write code but notice how it has to make assumptions about table names and column names.  The following section address how to guide the LLM to write runnable SQL with correct tables and columns."
   ]
  },
  {
   "cell_type": "markdown",
   "id": "5e7acbf5-8538-4404-8c29-a83d7b68b0f1",
   "metadata": {},
   "source": [
    "---\n",
    "## The Problem\n",
    "Both LLMs write valide SQL queries.  However, notice that asking either LLM to write the query this way faces several issues:\n",
    "- The queries do not reference the correct tables\n",
    "- The column names are not the correct one from the correct tables\n",
    "\n",
    "Basically, the generated SQL is a good starting point for a user to write a query that would retrieve the valid context for the users question.\n",
    "\n",
    "**How to get a fully executable SQL query form the LLM?**\n",
    "\n",
    "The following approach was created by iternatively refining text prompts and approaches for specific questions.  "
   ]
  },
  {
   "cell_type": "markdown",
   "id": "e40a597f-3cbe-4c9d-8955-6422f611fff2",
   "metadata": {},
   "source": [
    "---\n",
    "## Retrieve Table Schemas\n",
    "\n",
    "The context that will be provided to the LLM to help write the SQL query will be the related tables schema.  The BigQuery tables used for this experiment are BigQuery public dataset tables:\n",
    "- `bigquery-public-data.new_york.citibike_trips`\n",
    "- `bigquery-public-data.new_york.citibike_stations`\n",
    "\n",
    "To retrive the schemas for the tables the BigQuery [INFORMATIONM_SCHEMA](https://cloud.google.com/bigquery/docs/information-schema-intro) is used - specifically the [INFORMATION_SCHEMA.COLUMN_FIELD_PATHS](https://cloud.google.com/bigquery/docs/information-schema-column-field-paths) view."
   ]
  },
  {
   "cell_type": "code",
   "execution_count": 12,
   "id": "32c4fe65-47a7-4347-a420-52904fa8a94a",
   "metadata": {},
   "outputs": [],
   "source": [
    "BQ_PROJECT = 'bigquery-public-data'\n",
    "BQ_DATASET = 'new_york'\n",
    "BQ_TABLES = ['citibike_trips', 'citibike_stations']"
   ]
  },
  {
   "cell_type": "code",
   "execution_count": 13,
   "id": "909fe317-e61d-4d2c-a35c-23255c678be2",
   "metadata": {},
   "outputs": [
    {
     "name": "stdout",
     "output_type": "stream",
     "text": [
      "\n",
      "    SELECT *\n",
      "    FROM `bigquery-public-data.new_york.INFORMATION_SCHEMA.COLUMN_FIELD_PATHS`\n",
      "    WHERE table_name in (\"citibike_trips\",\"citibike_stations\")\n",
      "\n"
     ]
    }
   ],
   "source": [
    "query = f\"\"\"\n",
    "    SELECT *\n",
    "    FROM `{BQ_PROJECT}.{BQ_DATASET}.INFORMATION_SCHEMA.COLUMN_FIELD_PATHS`\n",
    "    WHERE table_name in ({','.join([f'\"{table}\"' for table in BQ_TABLES])})\n",
    "\"\"\"\n",
    "print(query)\n",
    "schema_columns = bq.query(query = query).to_dataframe()"
   ]
  },
  {
   "cell_type": "code",
   "execution_count": 14,
   "id": "4a5a58cd-4e06-4737-92c5-ad77ae76d05a",
   "metadata": {},
   "outputs": [
    {
     "data": {
      "text/html": [
       "<div>\n",
       "<style scoped>\n",
       "    .dataframe tbody tr th:only-of-type {\n",
       "        vertical-align: middle;\n",
       "    }\n",
       "\n",
       "    .dataframe tbody tr th {\n",
       "        vertical-align: top;\n",
       "    }\n",
       "\n",
       "    .dataframe thead th {\n",
       "        text-align: right;\n",
       "    }\n",
       "</style>\n",
       "<table border=\"1\" class=\"dataframe\">\n",
       "  <thead>\n",
       "    <tr style=\"text-align: right;\">\n",
       "      <th></th>\n",
       "      <th>table_catalog</th>\n",
       "      <th>table_schema</th>\n",
       "      <th>table_name</th>\n",
       "      <th>column_name</th>\n",
       "      <th>field_path</th>\n",
       "      <th>data_type</th>\n",
       "      <th>description</th>\n",
       "      <th>collation_name</th>\n",
       "      <th>rounding_mode</th>\n",
       "    </tr>\n",
       "  </thead>\n",
       "  <tbody>\n",
       "    <tr>\n",
       "      <th>0</th>\n",
       "      <td>bigquery-public-data</td>\n",
       "      <td>new_york</td>\n",
       "      <td>citibike_stations</td>\n",
       "      <td>station_id</td>\n",
       "      <td>station_id</td>\n",
       "      <td>STRING</td>\n",
       "      <td>Unique identifier of a station.</td>\n",
       "      <td>NULL</td>\n",
       "      <td>None</td>\n",
       "    </tr>\n",
       "    <tr>\n",
       "      <th>1</th>\n",
       "      <td>bigquery-public-data</td>\n",
       "      <td>new_york</td>\n",
       "      <td>citibike_stations</td>\n",
       "      <td>name</td>\n",
       "      <td>name</td>\n",
       "      <td>STRING</td>\n",
       "      <td>Public name of the station.</td>\n",
       "      <td>NULL</td>\n",
       "      <td>None</td>\n",
       "    </tr>\n",
       "    <tr>\n",
       "      <th>2</th>\n",
       "      <td>bigquery-public-data</td>\n",
       "      <td>new_york</td>\n",
       "      <td>citibike_stations</td>\n",
       "      <td>short_name</td>\n",
       "      <td>short_name</td>\n",
       "      <td>STRING</td>\n",
       "      <td>Short name or other type of identifier, as use...</td>\n",
       "      <td>NULL</td>\n",
       "      <td>None</td>\n",
       "    </tr>\n",
       "    <tr>\n",
       "      <th>3</th>\n",
       "      <td>bigquery-public-data</td>\n",
       "      <td>new_york</td>\n",
       "      <td>citibike_stations</td>\n",
       "      <td>latitude</td>\n",
       "      <td>latitude</td>\n",
       "      <td>FLOAT64</td>\n",
       "      <td>The latitude of station. The field value must ...</td>\n",
       "      <td>NULL</td>\n",
       "      <td>None</td>\n",
       "    </tr>\n",
       "    <tr>\n",
       "      <th>4</th>\n",
       "      <td>bigquery-public-data</td>\n",
       "      <td>new_york</td>\n",
       "      <td>citibike_stations</td>\n",
       "      <td>longitude</td>\n",
       "      <td>longitude</td>\n",
       "      <td>FLOAT64</td>\n",
       "      <td>The longitude of station. The field value must...</td>\n",
       "      <td>NULL</td>\n",
       "      <td>None</td>\n",
       "    </tr>\n",
       "  </tbody>\n",
       "</table>\n",
       "</div>"
      ],
      "text/plain": [
       "          table_catalog table_schema         table_name column_name  \\\n",
       "0  bigquery-public-data     new_york  citibike_stations  station_id   \n",
       "1  bigquery-public-data     new_york  citibike_stations        name   \n",
       "2  bigquery-public-data     new_york  citibike_stations  short_name   \n",
       "3  bigquery-public-data     new_york  citibike_stations    latitude   \n",
       "4  bigquery-public-data     new_york  citibike_stations   longitude   \n",
       "\n",
       "   field_path data_type                                        description  \\\n",
       "0  station_id    STRING                    Unique identifier of a station.   \n",
       "1        name    STRING                        Public name of the station.   \n",
       "2  short_name    STRING  Short name or other type of identifier, as use...   \n",
       "3    latitude   FLOAT64  The latitude of station. The field value must ...   \n",
       "4   longitude   FLOAT64  The longitude of station. The field value must...   \n",
       "\n",
       "  collation_name rounding_mode  \n",
       "0           NULL          None  \n",
       "1           NULL          None  \n",
       "2           NULL          None  \n",
       "3           NULL          None  \n",
       "4           NULL          None  "
      ]
     },
     "execution_count": 14,
     "metadata": {},
     "output_type": "execute_result"
    }
   ],
   "source": [
    "schema_columns.head()"
   ]
  },
  {
   "cell_type": "code",
   "execution_count": 15,
   "id": "d9bca640-fc80-4e7f-9662-2acc19c55cdf",
   "metadata": {},
   "outputs": [],
   "source": [
    "# schema_columns.to_markdown(index = False)"
   ]
  },
  {
   "cell_type": "markdown",
   "id": "d2f57010-2472-463f-b5b6-38aada160895",
   "metadata": {},
   "source": [
    "### Notes On Efficient Information Schema Retrieval\n",
    "\n",
    "In this example the entire schema is used as context.  But what happens when there are many table and many columns?  Eventually the size will exceed the input size of the LLM.  It is also possible to misguide the LLM in the creation of code by supply too much information - especially when on different topics.\n",
    "\n",
    "Using semantic retrieval with embeddings is a great solution in this situation:\n",
    "- create embeddings for all table descriptions\n",
    "- create embeddings for all column descriptions\n",
    "- create a vector database with indexes for tables and embeddings\n",
    "- When a new question comes in find the most applicable table(s) and columns:\n",
    "    - embed the questions\n",
    "    - do a vector search for matching table(s)\n",
    "    - do a vector search for matching columns on the already matched table(s)\n",
    "    - prepare a schema for just the matched tables and columns"
   ]
  },
  {
   "cell_type": "markdown",
   "id": "a4ecd1b9-bbc4-4a95-827b-b801d133de4a",
   "metadata": {},
   "source": [
    "---\n",
    "## Code Generation LLM - With Context\n",
    "\n",
    "In this attempt, ask the code generation LLM to write valid SQL and also provide it context.  In this case the context is the schema of the tables that are relevant to Citibike rentals.\n",
    "\n",
    "Turning the table that represent the schema into context is done here by using a conversion to markdown.  This is an area where users can experiment with the format.  JSON, CSV, ....  I like markdown because it includes the column names a single time and is delimited by the header row notation of markdown!"
   ]
  },
  {
   "cell_type": "code",
   "execution_count": 16,
   "id": "1c0c62f0-93dd-40f5-bb03-03f149d78472",
   "metadata": {},
   "outputs": [
    {
     "name": "stdout",
     "output_type": "stream",
     "text": [
      "```sql\n",
      "SELECT \n",
      "  start_station_name AS station_name,\n",
      "  SUM(tripduration) AS total_duration_minutes\n",
      "FROM bigquery-public-data.new_york.citibike_trips\n",
      "WHERE \n",
      "  EXTRACT(MONTH FROM starttime) = 7\n",
      "  AND EXTRACT(YEAR FROM starttime) = 2015\n",
      "GROUP BY \n",
      "  start_station_name\n",
      "ORDER BY \n",
      "  total_duration_minutes DESC\n",
      "LIMIT \n",
      "  1;\n",
      "```\n"
     ]
    }
   ],
   "source": [
    "context_prompt = f\"\"\"\n",
    "Write a Google SQL query for BigQuery that answers the following question while using the provided context to correctly refer to BigQuery tables and the needed column names.  When joining tables use coersion to ensure an join columns are the same data type. Output column names should include the units when applicable. \n",
    "question:\n",
    "{question}\n",
    "\n",
    "context:\n",
    "{schema_columns.to_markdown(index = False)}\n",
    "\"\"\"\n",
    "\n",
    "context_query = codegen_model.predict(context_prompt, max_output_tokens = 256)\n",
    "\n",
    "print(context_query.text)"
   ]
  },
  {
   "cell_type": "code",
   "execution_count": 17,
   "id": "ef9e6f4b-b12d-4d90-b150-73abf52af20a",
   "metadata": {},
   "outputs": [
    {
     "name": "stdout",
     "output_type": "stream",
     "text": [
      "\n",
      "Write a Google SQL query for BigQuery that answers the following question while using the provided context to correctly refer to BigQuery tables and the needed column names.  When joining tables use coersion to ensure an join columns are the same data type. Output column names should include the units when applicable. \n",
      "question:\n",
      "Which station had most rentals (longest total duration) during July 2015?\n",
      "\n",
      "context:\n",
      "| table_catalog        | table_schema   | table_name        | column_name               | field_path                | data_type   | description                                                                                            | collation_name   | rounding_mode   |\n",
      "|:---------------------|:---------------|:------------------|:--------------------------|:--------------------------|:------------|:-------------------------------------------------------------------------------------------------------|:-----------------|:----------------|\n",
      "| bigquery-public-data | new_york       | citibike_stations | station_id                | station_id                | STRING      | Unique identifier of a station.                                                                        | NULL             |                 |\n",
      "| bigquery-public-data | new_york       | citibike_stations | name                      | name                      | STRING      | Public name of the station.                                                                            | NULL             |                 |\n",
      "| bigquery-public-data | new_york       | citibike_stations | short_name                | short_name                | STRING      | Short name or other type of identifier, as used by the data publisher.                                 | NULL             |                 |\n",
      "| bigquery-public-data | new_york       | citibike_stations | latitude                  | latitude                  | FLOAT64     | The latitude of station. The field value must be a valid WGS 84 latitude in decimal degrees format.    | NULL             |                 |\n",
      "| bigquery-public-data | new_york       | citibike_stations | longitude                 | longitude                 | FLOAT64     | The longitude of station. The field value must be a valid WGS 84 latitude in decimal degrees format.   | NULL             |                 |\n",
      "| bigquery-public-data | new_york       | citibike_stations | region_id                 | region_id                 | INT64       | ID of the region where station is located.                                                             | NULL             |                 |\n",
      "| bigquery-public-data | new_york       | citibike_stations | rental_methods            | rental_methods            | STRING      | Array of enumerables containing the payment methods accepted at this station.                          | NULL             |                 |\n",
      "| bigquery-public-data | new_york       | citibike_stations | capacity                  | capacity                  | INT64       | ANumber of total docking points installed at this station, both available and unavailable.             | NULL             |                 |\n",
      "| bigquery-public-data | new_york       | citibike_stations | eightd_has_key_dispenser  | eightd_has_key_dispenser  | BOOL        |                                                                                                        | NULL             |                 |\n",
      "| bigquery-public-data | new_york       | citibike_stations | num_bikes_available       | num_bikes_available       | INT64       | Number of bikes available for rental.                                                                  | NULL             |                 |\n",
      "| bigquery-public-data | new_york       | citibike_stations | num_bikes_disabled        | num_bikes_disabled        | INT64       | Number of disabled bikes at the station.                                                               | NULL             |                 |\n",
      "| bigquery-public-data | new_york       | citibike_stations | num_docks_available       | num_docks_available       | INT64       | Number of docks accepting bike returns.                                                                | NULL             |                 |\n",
      "| bigquery-public-data | new_york       | citibike_stations | num_docks_disabled        | num_docks_disabled        | INT64       | Number of empty but disabled dock points at the station.                                               | NULL             |                 |\n",
      "| bigquery-public-data | new_york       | citibike_stations | is_installed              | is_installed              | BOOL        | Is the station currently on the street?                                                                | NULL             |                 |\n",
      "| bigquery-public-data | new_york       | citibike_stations | is_renting                | is_renting                | BOOL        | Is the station currently renting bikes?                                                                | NULL             |                 |\n",
      "| bigquery-public-data | new_york       | citibike_stations | is_returning              | is_returning              | BOOL        | Is the station accepting bike returns?                                                                 | NULL             |                 |\n",
      "| bigquery-public-data | new_york       | citibike_stations | eightd_has_available_keys | eightd_has_available_keys | BOOL        |                                                                                                        | NULL             |                 |\n",
      "| bigquery-public-data | new_york       | citibike_stations | last_reported             | last_reported             | TIMESTAMP   | Timestamp indicating the last time this station reported its status to the backend, in NYC local time. | NULL             |                 |\n",
      "| bigquery-public-data | new_york       | citibike_trips    | tripduration              | tripduration              | INT64       | Trip Duration (in seconds)                                                                             | NULL             |                 |\n",
      "| bigquery-public-data | new_york       | citibike_trips    | starttime                 | starttime                 | TIMESTAMP   | Start Time                                                                                             | NULL             |                 |\n",
      "| bigquery-public-data | new_york       | citibike_trips    | stoptime                  | stoptime                  | TIMESTAMP   | Stop Time                                                                                              | NULL             |                 |\n",
      "| bigquery-public-data | new_york       | citibike_trips    | start_station_id          | start_station_id          | INT64       | Start Station ID                                                                                       | NULL             |                 |\n",
      "| bigquery-public-data | new_york       | citibike_trips    | start_station_name        | start_station_name        | STRING      | Start Station Name                                                                                     | NULL             |                 |\n",
      "| bigquery-public-data | new_york       | citibike_trips    | start_station_latitude    | start_station_latitude    | FLOAT64     | Start Station Latitude                                                                                 | NULL             |                 |\n",
      "| bigquery-public-data | new_york       | citibike_trips    | start_station_longitude   | start_station_longitude   | FLOAT64     | Start Station Longitude                                                                                | NULL             |                 |\n",
      "| bigquery-public-data | new_york       | citibike_trips    | end_station_id            | end_station_id            | INT64       | End Station ID                                                                                         | NULL             |                 |\n",
      "| bigquery-public-data | new_york       | citibike_trips    | end_station_name          | end_station_name          | STRING      | End Station Name                                                                                       | NULL             |                 |\n",
      "| bigquery-public-data | new_york       | citibike_trips    | end_station_latitude      | end_station_latitude      | FLOAT64     | End Station Latitude                                                                                   | NULL             |                 |\n",
      "| bigquery-public-data | new_york       | citibike_trips    | end_station_longitude     | end_station_longitude     | FLOAT64     | End Station Longitude                                                                                  | NULL             |                 |\n",
      "| bigquery-public-data | new_york       | citibike_trips    | bikeid                    | bikeid                    | INT64       | Bike ID                                                                                                | NULL             |                 |\n",
      "| bigquery-public-data | new_york       | citibike_trips    | usertype                  | usertype                  | STRING      | User Type (Customer = 24-hour pass or 7-day pass user, Subscriber = Annual Member)                     | NULL             |                 |\n",
      "| bigquery-public-data | new_york       | citibike_trips    | birth_year                | birth_year                | INT64       | Year of Birth                                                                                          | NULL             |                 |\n",
      "| bigquery-public-data | new_york       | citibike_trips    | gender                    | gender                    | STRING      | Gender (unknown, male, female)                                                                         | NULL             |                 |\n",
      "\n"
     ]
    }
   ],
   "source": [
    "print(context_prompt)"
   ]
  },
  {
   "cell_type": "code",
   "execution_count": 18,
   "id": "8743db49-3ff4-4398-ac4a-4d6c4df57e2b",
   "metadata": {},
   "outputs": [],
   "source": [
    "context_response = bq.query(query = '\\n'.join(context_query.text.split('\\n')[1:-1])).to_dataframe()"
   ]
  },
  {
   "cell_type": "code",
   "execution_count": 19,
   "id": "a7f2a311-eef2-44e8-ae4c-98a0011e9cd2",
   "metadata": {},
   "outputs": [
    {
     "data": {
      "text/html": [
       "<div>\n",
       "<style scoped>\n",
       "    .dataframe tbody tr th:only-of-type {\n",
       "        vertical-align: middle;\n",
       "    }\n",
       "\n",
       "    .dataframe tbody tr th {\n",
       "        vertical-align: top;\n",
       "    }\n",
       "\n",
       "    .dataframe thead th {\n",
       "        text-align: right;\n",
       "    }\n",
       "</style>\n",
       "<table border=\"1\" class=\"dataframe\">\n",
       "  <thead>\n",
       "    <tr style=\"text-align: right;\">\n",
       "      <th></th>\n",
       "      <th>station_name</th>\n",
       "      <th>total_duration_minutes</th>\n",
       "    </tr>\n",
       "  </thead>\n",
       "  <tbody>\n",
       "    <tr>\n",
       "      <th>0</th>\n",
       "      <td>Central Park S &amp; 6 Ave</td>\n",
       "      <td>18055103</td>\n",
       "    </tr>\n",
       "  </tbody>\n",
       "</table>\n",
       "</div>"
      ],
      "text/plain": [
       "             station_name  total_duration_minutes\n",
       "0  Central Park S & 6 Ave                18055103"
      ]
     },
     "execution_count": 19,
     "metadata": {},
     "output_type": "execute_result"
    }
   ],
   "source": [
    "context_response"
   ]
  },
  {
   "cell_type": "markdown",
   "id": "8566bfc1-2e5d-4d1b-9535-67a1722e7091",
   "metadata": {},
   "source": [
    "---\n",
    "## Answer The Question\n",
    "\n",
    "Now that a valid context has been retrieved from BigQuery it can be passed to a text generation LLM to answer the user questions."
   ]
  },
  {
   "cell_type": "code",
   "execution_count": 20,
   "id": "b1c54bd8-426c-4f5a-bf16-2e74cf52b40f",
   "metadata": {},
   "outputs": [
    {
     "name": "stdout",
     "output_type": "stream",
     "text": [
      " Central Park S & 6 Ave\n"
     ]
    }
   ],
   "source": [
    "question_prompt = f\"\"\"\n",
    "Answer the following question using the provided context.  Note that the context is a tabular result returned from a BigQuery query.  Do not repeat the question or the context when responding.\n",
    "\n",
    "question:\n",
    "{question}\n",
    "context:\n",
    "{context_response}\n",
    "\"\"\"\n",
    "\n",
    "question_response = textgen_model.predict(question_prompt)\n",
    "\n",
    "print(question_response.text)"
   ]
  },
  {
   "cell_type": "code",
   "execution_count": 21,
   "id": "aa01241d-ee8b-468a-b6d8-786ab948db79",
   "metadata": {},
   "outputs": [
    {
     "name": "stdout",
     "output_type": "stream",
     "text": [
      " Central Park S & 6 Ave had the longest total duration of rentals, at 18055103 minutes.\n"
     ]
    }
   ],
   "source": [
    "question_prompt = f\"\"\"\n",
    "Answer the following question using the provided context.  Note that the context is a tabular result returned from a BigQuery query. Provide the response in a conversational way instead of just the query result\n",
    "\n",
    "question:\n",
    "{question}\n",
    "context:\n",
    "{context_response}\n",
    "\"\"\"\n",
    "\n",
    "question_response = textgen_model.predict(question_prompt)\n",
    "\n",
    "print(question_response.text)"
   ]
  },
  {
   "cell_type": "code",
   "execution_count": 22,
   "id": "b947ade0-57a4-47c7-98b3-677412954abe",
   "metadata": {},
   "outputs": [],
   "source": [
    "#print(question_prompt)"
   ]
  },
  {
   "cell_type": "markdown",
   "id": "9de864c1-c95c-4944-b871-3a2010d38ced",
   "metadata": {},
   "source": [
    "---\n",
    "## Put It All Together\n",
    "\n",
    "Ask a new question and try it out:"
   ]
  },
  {
   "cell_type": "code",
   "execution_count": 23,
   "id": "0dd52257-baa4-43d0-84c1-5dfaea18d942",
   "metadata": {},
   "outputs": [],
   "source": [
    "question = 'What were the top five stations with most unique trips in July 2015?'"
   ]
  },
  {
   "cell_type": "code",
   "execution_count": 24,
   "id": "73786cfa-7845-4372-b735-e933a22b1715",
   "metadata": {},
   "outputs": [],
   "source": [
    "context_prompt = f\"\"\"\n",
    "Write a Google SQL query for BigQuery that answers the following question while using the provided context to correctly refer to BigQuery tables and the needed column names.  When joining tables use coersion to ensure an join columns are the same data type. Output column names should include the units when applicable. \n",
    "question:\n",
    "{question}\n",
    "\n",
    "context:\n",
    "\n",
    "{schema_columns.to_markdown(index = False)}\n",
    "\"\"\"\n",
    "\n",
    "context_query = codegen_model.predict(context_prompt, max_output_tokens = 256)\n",
    "\n",
    "context_response = bq.query(query = '\\n'.join(context_query.text.split('\\n')[1:-1])).to_dataframe()"
   ]
  },
  {
   "cell_type": "code",
   "execution_count": 25,
   "id": "5e66d2bb-bb63-4ee6-8347-ea8d3c56f494",
   "metadata": {},
   "outputs": [
    {
     "data": {
      "text/plain": [
       "```sql\n",
       "SELECT \n",
       "  start_station_name AS station_name,\n",
       "  COUNT(DISTINCT bikeid) AS unique_trips\n",
       "FROM bigquery-public-data.new_york.citibike_trips\n",
       "WHERE EXTRACT(MONTH FROM starttime) = 7\n",
       "  AND EXTRACT(YEAR FROM starttime) = 2015\n",
       "GROUP BY 1\n",
       "ORDER BY 2 DESC\n",
       "LIMIT 5;\n",
       "```"
      ]
     },
     "execution_count": 25,
     "metadata": {},
     "output_type": "execute_result"
    }
   ],
   "source": [
    "context_query"
   ]
  },
  {
   "cell_type": "code",
   "execution_count": 26,
   "id": "58fe980c-8edf-4356-99ee-214f5d54a975",
   "metadata": {},
   "outputs": [
    {
     "name": "stdout",
     "output_type": "stream",
     "text": [
      " The top five stations with most unique trips in July 2015 were:\n",
      "1. 8 Ave & W 31 St (6004)\n",
      "2. Pershing Square North (5468)\n",
      "3. West St & Chambers St (5259)\n",
      "4. Lafayette St & E 8 St (5144)\n",
      "5. E 17 St & Broadway (5116)\n"
     ]
    }
   ],
   "source": [
    "question_prompt = f\"\"\"\n",
    "Answer the following question using the provided context.  Note that the context is a tabular result returned from a BigQuery query.  Do not repeat the question or the context when responding.\n",
    "\n",
    "question:\n",
    "{question}\n",
    "context:\n",
    "{context_response}\n",
    "\"\"\"\n",
    "\n",
    "question_response = textgen_model.predict(question_prompt)\n",
    "\n",
    "print(question_response.text)"
   ]
  },
  {
   "cell_type": "code",
   "execution_count": 27,
   "id": "94e1f9b9-a5e6-452d-859e-c17229d87287",
   "metadata": {},
   "outputs": [
    {
     "name": "stdout",
     "output_type": "stream",
     "text": [
      " The top five stations with the most unique trips in July 2015 were:\n",
      " 1. 8 Ave & W 31 St with 6004 unique trips\n",
      " 2. Pershing Square North with 5468 unique trips\n",
      " 3. West St & Chambers St with 5259 unique trips\n",
      " 4. Lafayette St & E 8 St with 5144 unique trips\n",
      " 5. E 17 St & Broadway with 5116 unique trips\n"
     ]
    }
   ],
   "source": [
    "question_prompt = f\"\"\"\n",
    "Answer the following question using the provided context.  Note that the context is a tabular result returned from a BigQuery query. Provide the response in a conversational way instead of just the query result\n",
    "\n",
    "question:\n",
    "{question}\n",
    "context:\n",
    "{context_response}\n",
    "\"\"\"\n",
    "\n",
    "question_response = textgen_model.predict(question_prompt)\n",
    "\n",
    "print(question_response.text)"
   ]
  },
  {
   "cell_type": "markdown",
   "id": "eeb9935f-80b3-41fe-b372-2b83a9798031",
   "metadata": {},
   "source": [
    "---\n",
    "## All Together and More Complex"
   ]
  },
  {
   "cell_type": "code",
   "execution_count": 28,
   "id": "2326bbd0-41a7-478e-807e-67958e6a67db",
   "metadata": {},
   "outputs": [],
   "source": [
    "question = 'What were the top five stations with most trips started in July 2015 near central park?'"
   ]
  },
  {
   "cell_type": "code",
   "execution_count": 29,
   "id": "4ac10690-7cdd-4274-a0d0-cee8caa45833",
   "metadata": {},
   "outputs": [],
   "source": [
    "context_prompt = f\"\"\"\n",
    "Write a Google SQL query for BigQuery that answers the following question while using the provided context to correctly refer to BigQuery tables and the needed column names.  When joining tables use coersion to ensure an join columns are the same data type. Output column names should include the units when applicable. \n",
    "question:\n",
    "{question}\n",
    "\n",
    "context:\n",
    "\n",
    "{schema_columns.to_markdown(index = False)}\n",
    "\"\"\"\n",
    "\n",
    "context_query = codegen_model.predict(context_prompt, max_output_tokens = 256)\n",
    "\n",
    "context_response = bq.query(query = '\\n'.join(context_query.text.split('\\n')[1:-1])).to_dataframe()"
   ]
  },
  {
   "cell_type": "code",
   "execution_count": 30,
   "id": "b99afbeb-8f97-4f63-9881-d85d2dd710fe",
   "metadata": {},
   "outputs": [
    {
     "data": {
      "text/plain": [
       "```sql\n",
       "SELECT\n",
       "  start_station_name AS station_name,\n",
       "  COUNT(*) AS num_trips\n",
       "FROM bigquery-public-data.new_york.citibike_trips\n",
       "WHERE\n",
       "  EXTRACT(MONTH FROM starttime) = 7\n",
       "  AND EXTRACT(YEAR FROM starttime) = 2015\n",
       "  AND start_station_latitude BETWEEN 40.769 AND 40.78 \n",
       "  AND start_station_longitude BETWEEN -73.985 AND -73.965\n",
       "GROUP BY 1\n",
       "ORDER BY 2 DESC\n",
       "LIMIT 5;\n",
       "```"
      ]
     },
     "execution_count": 30,
     "metadata": {},
     "output_type": "execute_result"
    }
   ],
   "source": [
    "context_query"
   ]
  },
  {
   "cell_type": "code",
   "execution_count": 31,
   "id": "b1b43b84-47b1-49fa-b024-0639b2557df7",
   "metadata": {},
   "outputs": [
    {
     "name": "stdout",
     "output_type": "stream",
     "text": [
      " 1.  Broadway & W 60 St (Central Park Zoo, Lincoln Center, Time Warner Center) 8793\n",
      "2.  Columbus Circle (Central Park, Museum of Modern Art, Time Warner Center) 5237\n",
      "3.  W 59 St & 8th Ave (Central Park, Lincoln Center, Museum of Modern Art) 4912\n",
      "4.  W 59 St & 7th Ave (Central Park, Lincoln Center, Museum of Modern Art) 4611\n",
      "5.  W 59 St & 6th Ave (Central Park, Rockefeller Center, Radio City Music Hall) 4409\n"
     ]
    }
   ],
   "source": [
    "question_prompt = f\"\"\"\n",
    "Answer the following question using the provided context.  Note that the context is a tabular result returned from a BigQuery query.  Do not repeat the question or the context when responding.\n",
    "\n",
    "Include popular points of interest near each listed station.\n",
    "\n",
    "question:\n",
    "{question}\n",
    "context:\n",
    "{context_response}\n",
    "\"\"\"\n",
    "\n",
    "question_response = textgen_model.predict(question_prompt, max_output_tokens = 500)\n",
    "\n",
    "print(question_response.text)"
   ]
  },
  {
   "cell_type": "markdown",
   "id": "0fe29fa1-61d7-4490-8eec-11022f884bf2",
   "metadata": {},
   "source": [
    "---\n",
    "## Implementing an quick Open Source UI"
   ]
  },
  {
   "cell_type": "code",
   "execution_count": 40,
   "id": "6368b51e-9de5-4b1f-b14e-8fa91a1f92cf",
   "metadata": {},
   "outputs": [],
   "source": [
    "def bq_qna(question):\n",
    "    \n",
    "    context_prompt = f\"\"\"\n",
    "    Write a Google SQL query for BigQuery that answers the following question while using the provided context to correctly refer to BigQuery tables and the needed column names.  When joining tables use coersion to ensure an join columns are the same data type. Output column names should include the units when applicable. \n",
    "    question:\n",
    "    {question}\n",
    "\n",
    "    context:\n",
    "\n",
    "    {schema_columns.to_markdown(index = False)}\n",
    "    \"\"\"\n",
    "\n",
    "    context_query = codegen_model.predict(context_prompt, max_output_tokens = 256)\n",
    "\n",
    "    context_response = bq.query(query = '\\n'.join(context_query.text.split('\\n')[1:-1])).to_dataframe()\n",
    "    \n",
    "    \n",
    "    question_prompt = f\"\"\"\n",
    "    Answer the following question using the provided context.  Note that the context is a tabular result returned from a BigQuery query.  Do not repeat the question or the context when responding.\n",
    "\n",
    "    Include popular points of interest near each listed station.\n",
    "\n",
    "    question:\n",
    "    {question}\n",
    "    context:\n",
    "    {context_response}\n",
    "    \"\"\"\n",
    "\n",
    "    question_response = textgen_model.predict(question_prompt, max_output_tokens = 500)\n",
    "\n",
    "    print(question_response.text)\n",
    "    \n",
    "    return (question_response.text), context_query, context_response\n",
    "    "
   ]
  },
  {
   "cell_type": "code",
   "execution_count": 41,
   "id": "51130d48-61b1-4740-80f3-740ccea54f35",
   "metadata": {},
   "outputs": [
    {
     "name": "stdout",
     "output_type": "stream",
     "text": [
      "Running on local URL:  http://127.0.0.1:7864\n",
      "Running on public URL: https://59f05dfc5624723e5b.gradio.live\n",
      "\n",
      "This share link expires in 72 hours. For free permanent hosting and GPU upgrades, run `gradio deploy` from Terminal to deploy to Spaces (https://huggingface.co/spaces)\n"
     ]
    },
    {
     "data": {
      "text/html": [
       "<div><iframe src=\"https://59f05dfc5624723e5b.gradio.live\" width=\"100%\" height=\"500\" allow=\"autoplay; camera; microphone; clipboard-read; clipboard-write;\" frameborder=\"0\" allowfullscreen></iframe></div>"
      ],
      "text/plain": [
       "<IPython.core.display.HTML object>"
      ]
     },
     "metadata": {},
     "output_type": "display_data"
    },
    {
     "data": {
      "text/plain": []
     },
     "execution_count": 41,
     "metadata": {},
     "output_type": "execute_result"
    },
    {
     "name": "stdout",
     "output_type": "stream",
     "text": [
      " Central Park S & 6 Ave, which is near the Central Park Zoo, Wollman Rink, and the Naumburg Bandshell.\n",
      " 1. 8 Ave & W 31 St - Madison Square Garden, Empire State Building, Macy's Herald Square\n",
      "2. Pershing Square North - Pershing Square, The Broad, Walt Disney Concert Hall\n",
      "3. West St & Chambers St - World Trade Center, One World Observatory, 9/11 Memorial\n",
      "4. Lafayette St & E 8 St - Washington Square Park, New York University, Cooper Union\n",
      "5. E 17 St & Broadway - Union Square, Flatiron Building, Madison Square Park\n",
      " 1  Central Park S & 6th Ave  6931\n",
      "     2  W 59 St & 8th Ave      6414\n",
      "     3  Columbus Circle        5927\n",
      "     4  E 59 St & 2nd Ave     4802\n",
      "     5  W 49 St & 6th Ave     4689\n",
      "     6  W 53 St & 6th Ave     4319\n",
      "     7  W 42 St & 8th Ave     4291\n",
      "     8  W 43 St & 10th Ave    4111\n",
      "     9  W 52 St & 5th Ave     3921\n",
      "    \n",
      "The top five stations with the most trips started in July 2015 near Central Park are:\n",
      "\n",
      "1.  Broadway & W 60 St (8793 trips) \n",
      " - Points of interest: Lincoln Center, Time Warner Center, The Shops at Columbus Circle\n",
      "\n",
      "2. Central Park S & 6th Ave (6931 trips) \n",
      " - Points of interest: The Plaza Hotel, Central Park Zoo, Wollman Rink\n",
      "\n",
      "3. W 59 St & 8th Ave (6414 trips) \n",
      " - Points of interest: The Museum of Modern Art, Radio City Music Hall, Rockefeller Center\n",
      "\n",
      "4. Columbus Circle (5927 trips) \n",
      " - Points of interest: The Time Warner Center, The Shops at Columbus Circle, Lincoln Center\n",
      "\n",
      "5. E 59 St & 2nd Ave (4802 trips) \n",
      " - Points of interest: Bloomingdale's, Bergdorf Goodman, The Plaza Hotel\n",
      " 1. 8 Ave & W 31 St - Madison Square Garden, Empire State Building, Macy's Herald Square\n",
      "2. Pershing Square North - Pershing Square, The Broad, Walt Disney Concert Hall\n",
      "3. West St & Chambers St - World Trade Center, One World Observatory, 9/11 Memorial\n",
      "4. Lafayette St & E 8 St - Washington Square Park, New York University, Cooper Union\n",
      "5. E 17 St & Broadway - Union Square, Flatiron Building, Madison Square Park\n",
      " 1  Central Park S & 6th Ave  6931\n",
      "     2  W 59 St & 8th Ave      6414\n",
      "     3  Columbus Circle        5927\n",
      "     4  E 59 St & 2nd Ave     4802\n",
      "     5  W 49 St & 6th Ave     4689\n",
      "     6  W 53 St & 6th Ave     4319\n",
      "     7  W 42 St & 8th Ave     4291\n",
      "     8  W 43 St & 10th Ave    4111\n",
      "     9  W 52 St & 5th Ave     3921\n",
      "    \n",
      "The top five stations with the most trips started in July 2015 near Central Park are:\n",
      "\n",
      "1.  Broadway & W 60 St (8793 trips) \n",
      " - Points of interest: Lincoln Center, Time Warner Center, The Shops at Columbus Circle\n",
      "\n",
      "2. Central Park S & 6th Ave (6931 trips) \n",
      " - Points of interest: The Plaza Hotel, Central Park Zoo, Wollman Rink\n",
      "\n",
      "3. W 59 St & 8th Ave (6414 trips) \n",
      " - Points of interest: The Museum of Modern Art, Radio City Music Hall, Rockefeller Center\n",
      "\n",
      "4. Columbus Circle (5927 trips) \n",
      " - Points of interest: The Time Warner Center, The Shops at Columbus Circle, Lincoln Center\n",
      "\n",
      "5. E 59 St & 2nd Ave (4802 trips) \n",
      " - Points of interest: Bloomingdale's, Bergdorf Goodman, The Plaza Hotel\n"
     ]
    }
   ],
   "source": [
    "import gradio as gr\n",
    "\n",
    "with gr.Blocks() as demo:\n",
    "    gr.Markdown(\n",
    "    \"\"\"\n",
    "    ## Ask BigQuery : Access to Data through Conversation Queries\n",
    "\n",
    "    This demo is to showcase answering questions on a tabular data available in Big Query using Vertex PaLM2 API & Codey API\n",
    "\n",
    "    Dataset: Public dataset on Citibike Trips and Stations for New York City (citibike_trips, citibike_stations)\n",
    "    BQ_PROJECT = 'bigquery-public-data'\n",
    "    BQ_DATASET = 'new_york'\n",
    "    BQ_TABLES = ['citibike_trips', 'citibike_stations']\n",
    "\n",
    "    Dataset dimensions: ~33 million rows and 15 columns in the trips table\n",
    "\n",
    "\n",
    "\n",
    "    ### Sample Inputs:\n",
    "    1. Which station had most rentals (longest total duration) during July 2015?\n",
    "    2. What were the top five stations with most unique trips in July 2015?\n",
    "    3. What were the top five stations with most trips started in July 2015 near central park?\n",
    "\n",
    "    ### Enter a search query...\n",
    "\n",
    "    \"\"\")\n",
    "    with gr.Row():\n",
    "      with gr.Column():\n",
    "        input_text = gr.Textbox(label=\"Question\", placeholder=\"Which station had most rentals (longest total duration) during July 2015?\")\n",
    "\n",
    "    with gr.Row():\n",
    "      generate = gr.Button(\"Ask BigQuery\")\n",
    "\n",
    "    with gr.Row():\n",
    "      label2 = gr.Textbox(label=\"Output\")\n",
    "    with gr.Row():\n",
    "      label3 = gr.Textbox(label=\"SQL query generated by LLM\")\n",
    "    with gr.Row():\n",
    "      label4 = gr.Textbox(label=\"BigQuery Output\")\n",
    "\n",
    "    generate.click(bq_qna,input_text, [label2, label3, label4])\n",
    "    # generate.click(bq_qna,input_text, label2)\n",
    "demo.launch(share=True, debug=False)"
   ]
  },
  {
   "cell_type": "code",
   "execution_count": null,
   "id": "42eaae30-ff42-48ec-8aa4-85bcb71e6e5b",
   "metadata": {},
   "outputs": [],
   "source": []
  }
 ],
 "metadata": {
  "environment": {
   "kernel": "python3",
   "name": "tf2-gpu.2-11.m111",
   "type": "gcloud",
   "uri": "gcr.io/deeplearning-platform-release/tf2-gpu.2-11:m111"
  },
  "kernelspec": {
   "display_name": "Python 3",
   "language": "python",
   "name": "python3"
  },
  "language_info": {
   "codemirror_mode": {
    "name": "ipython",
    "version": 3
   },
   "file_extension": ".py",
   "mimetype": "text/x-python",
   "name": "python",
   "nbconvert_exporter": "python",
   "pygments_lexer": "ipython3",
   "version": "3.10.12"
  }
 },
 "nbformat": 4,
 "nbformat_minor": 5
}
